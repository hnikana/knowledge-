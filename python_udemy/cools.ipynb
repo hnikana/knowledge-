{
 "cells": [
  {
   "cell_type": "markdown",
   "metadata": {},
   "source": [
    "# Difference between Append , Concat , Merge & Join in pandas :\n",
    "\n",
    "+ Append : Append in rows \n",
    "+ concat : along axis and it has inner outer for the other axis , the argumenet is iterable \n",
    "+ Merge : Merge has lef , right , inner , ouetr mor elike a data base style \n",
    "+ JOin : it works on indices , merge on indices "
   ]
  }
 ],
 "metadata": {
  "kernelspec": {
   "display_name": "Python 3",
   "language": "python",
   "name": "python3"
  },
  "language_info": {
   "codemirror_mode": {
    "name": "ipython",
    "version": 3
   },
   "file_extension": ".py",
   "mimetype": "text/x-python",
   "name": "python",
   "nbconvert_exporter": "python",
   "pygments_lexer": "ipython3",
   "version": "3.7.7"
  }
 },
 "nbformat": 4,
 "nbformat_minor": 4
}
