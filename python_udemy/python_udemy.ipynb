{
 "cells": [
  {
   "cell_type": "markdown",
   "metadata": {},
   "source": [
    "Numbers :\n",
    "+ Integers \n",
    "+ Boolean : Booleans are integer numbers under the hood\n",
    "+ fractionas \n",
    "+ complex : complex numbers are the n umbers with real and imaginary numbers \n",
    "+ floats \n",
    "\n",
    "COLLECTIONS :\n",
    " + SEquences \n",
    "  - mutable : lists \n",
    "  - immutables : tuples , strings \n",
    "  \n",
    " + SETS:\n",
    "  - mutables : sets \n",
    "  - immutables : Frozen sets \n",
    "  \n",
    " + Mappings :\n",
    "  - Dictionaries \n",
    "  \n",
    " + Callables :\n",
    "  - Functions \n",
    "  - Generators \n",
    "  - Classes \n",
    "  - instance methods \n",
    "  - class instances \n",
    "  - built in functions len() , range() , open()\n",
    "  - built in methods : list.ppend()\n",
    " \n",
    " + Singlton \n",
    "  - None \n",
    "  - NotImplemented \n",
    "  - elipses \n",
    "  \n",
    " \n",
    "> Mutable : they can be changed and modifies after creation \n",
    "> Imutable : the cannot be changed adn for any change the copy of them should be created \n",
    "\n",
    "\n",
    "* Why do we need immutability?\n",
    "\n",
    "1. Immutable objects are thread safe. The state of an object cannot be changed after its construction. This implies that read-only data is shared among threads, which provides thread safety. Operations involving mutations like (changing value at a particular index) can be implemented in such a way that they create new objects instead of modifying the existing ones.\n",
    "2. Immutable objects improve correctness and clarity. It provides a sane way to reason about the code. As the value of the object won’t change throughout the execution of the program. We can freely pass around objects without the fear of modification.\n",
    "3. Mutable objects are much harder to reason about. Mutable objects with multiple references pointing to the same object also called as aliasing leads to inconsistencies and threatens correctness of the code. One part of code mutating the value and another part of code affected due to this mutation. This is why it results in inconsistency.\n",
    "\n",
    "\n",
    "**mutable objects cannot be changed or modified but they can be assigned**\n",
    "\n",
    "Immutable objects:\n",
    "integer, float, string, tuple, bool, frozenset\n",
    "\n",
    "\n",
    "Immutability may be used to ensure that an object remains constant throughout your program. The values of mutable objects can be changed at any time and place, whether you expect it or not.\n",
    "\n",
    "\n",
    "The note about mutibilty and immutability is when we assign a mutable object to another variable , actually we are NOT creating a new object , it is pointer still the same and any change to the first object happen to the other object as well which sometimes might not be pleasant. But we we reassign a immutable object , then actaully its pointer is totally different . \n",
    "\n",
    "\n",
    "\n"
   ]
  },
  {
   "cell_type": "code",
   "execution_count": 13,
   "metadata": {},
   "outputs": [
    {
     "name": "stdout",
     "output_type": "stream",
     "text": [
      "Address of phrase is: 4572434144\n",
      "Address of phrase is: 4570332336\n"
     ]
    },
    {
     "ename": "TypeError",
     "evalue": "'str' object does not support item assignment",
     "output_type": "error",
     "traceback": [
      "\u001b[0;31m---------------------------------------------------------------------------\u001b[0m",
      "\u001b[0;31mTypeError\u001b[0m                                 Traceback (most recent call last)",
      "\u001b[0;32m<ipython-input-13-7933ecc1e800>\u001b[0m in \u001b[0;36m<module>\u001b[0;34m\u001b[0m\n\u001b[1;32m      5\u001b[0m \u001b[0mphrase\u001b[0m \u001b[0;34m=\u001b[0m \u001b[0;34m'do you feel lucky'\u001b[0m\u001b[0;34m\u001b[0m\u001b[0;34m\u001b[0m\u001b[0m\n\u001b[1;32m      6\u001b[0m \u001b[0mprint\u001b[0m\u001b[0;34m(\u001b[0m\u001b[0;34m'Address of phrase is: {}'\u001b[0m\u001b[0;34m.\u001b[0m\u001b[0mformat\u001b[0m\u001b[0;34m(\u001b[0m\u001b[0mid\u001b[0m\u001b[0;34m(\u001b[0m\u001b[0mphrase\u001b[0m\u001b[0;34m)\u001b[0m\u001b[0;34m)\u001b[0m\u001b[0;34m)\u001b[0m\u001b[0;34m\u001b[0m\u001b[0;34m\u001b[0m\u001b[0m\n\u001b[0;32m----> 7\u001b[0;31m \u001b[0mphrase\u001b[0m\u001b[0;34m[\u001b[0m\u001b[0;36m2\u001b[0m\u001b[0;34m]\u001b[0m \u001b[0;34m=\u001b[0m \u001b[0;34m'ZZZZ'\u001b[0m\u001b[0;34m\u001b[0m\u001b[0;34m\u001b[0m\u001b[0m\n\u001b[0m",
      "\u001b[0;31mTypeError\u001b[0m: 'str' object does not support item assignment"
     ]
    }
   ],
   "source": [
    "# mutable objects cannot be changed but they can be reassigned \n",
    "\n",
    "phrase = 'how you like me now'\n",
    "print('Address of phrase is: {}'.format(id(phrase)))\n",
    "phrase = 'do you feel lucky'\n",
    "print('Address of phrase is: {}'.format(id(phrase)))\n",
    "phrase[2] = 'ZZZZ'"
   ]
  },
  {
   "cell_type": "code",
   "execution_count": 14,
   "metadata": {},
   "outputs": [
    {
     "name": "stdout",
     "output_type": "stream",
     "text": [
      "True\n",
      "Id is the same True\n",
      "False\n",
      "Id is the same False\n",
      "how about MUTABLE OBJects \n",
      "Mutable objects are the same = True\n",
      "How about their pointer = False \n",
      "appending kos sher to l2\n",
      "Mutable objects are the same after changing one of them True\n"
     ]
    }
   ],
   "source": [
    "a = 'hello'\n",
    "b = a \n",
    "print(a == b)\n",
    "print ('Id is the same {}'. format(id(a) ==id(b))) \n",
    "\n",
    "b = 'SPICY'\n",
    "print(a == b)\n",
    "print ('Id is the same {}'. format(id(a) ==id(b))) \n",
    "\n",
    "\n",
    "print ('how about MUTABLE OBJects ')\n",
    "\n",
    "l1 = [1,2,3]\n",
    "l2 = l1 \n",
    "\n",
    "print('Mutable objects are the same = {}'.format(l1==l2))\n",
    "print('How about their pointer = {} '.format(id(l1)==id(2)))\n",
    "\n",
    "print('appending kos sher to l2')\n",
    "l2.append('KOS SHER')\n",
    "\n",
    "print('Mutable objects are the same after changing one of them' , l1==l2)\n",
    "\n"
   ]
  },
  {
   "cell_type": "markdown",
   "metadata": {},
   "source": [
    "Python program is nothing but a text \n",
    "- physical line of codes ==> logical lines of codes and then tokenized \n",
    "- So most of the time th elogical line of codes are as the same as the physiacl line of codes but not *ALWAYS* , when we break our line of codes for the sake of better readability \n",
    "\n",
    "The conversion of the physical to logocal line of codes can be done either implicitly or explicitly . \n",
    "- IMPLICIT : list , tuple , sets and dictionaries and function argument they can be breaoken to multiple lines , we can comment after each line with # and the comments and new lines will be stripped off and then it is changes to a one line of code "
   ]
  },
  {
   "cell_type": "code",
   "execution_count": 17,
   "metadata": {},
   "outputs": [],
   "source": [
    "a = [1 , 2,\n",
    "    3 , \n",
    "    4 # this is the fourth element \n",
    "    ]"
   ]
  },
  {
   "cell_type": "markdown",
   "metadata": {},
   "source": [
    "- Explicitly : we should use \\ after each ;line in our if statement and comment should be after the last line , technically we can not put comment in the middle of if statemnet , right ? \n",
    "- TRIPLE QOUTE : the point her eis that python is not stripping off the new line charactor or tab or spac \\n \\t .. ==> DOCSTRINGb\n",
    "\n"
   ]
  },
  {
   "cell_type": "code",
   "execution_count": 18,
   "metadata": {},
   "outputs": [
    {
     "name": "stdout",
     "output_type": "stream",
     "text": [
      "{1, 2, 3}\n",
      "{1.0, (1, 2, 3), 'Hello'}\n"
     ]
    }
   ],
   "source": [
    "# HOW TO DEFINE A SET \n",
    "\n",
    "\n",
    "my_set = {1, 2, 3}\n",
    "print(my_set)\n",
    "\n",
    "# set of mixed datatypes\n",
    "my_set = {1.0, \"Hello\", (1, 2, 3)}\n",
    "print(my_set)"
   ]
  },
  {
   "cell_type": "code",
   "execution_count": 20,
   "metadata": {},
   "outputs": [
    {
     "name": "stdout",
     "output_type": "stream",
     "text": [
      "{1, 2, 3, 4, 5}\n"
     ]
    }
   ],
   "source": [
    "a = set([1,2,3,4,2,3,4,5])\n",
    "print(a) # it eliminates the duplicates or replicates \n"
   ]
  },
  {
   "cell_type": "code",
   "execution_count": 22,
   "metadata": {},
   "outputs": [
    {
     "name": "stdout",
     "output_type": "stream",
     "text": [
      "this is \n",
      "a     new \n",
      "        kos sher , \n",
      "        Just LOk at athe print \n"
     ]
    },
    {
     "data": {
      "text/plain": [
       "'this is \\na     new \\n        kos sher , \\n        Just LOk at athe print '"
      ]
     },
     "execution_count": 22,
     "metadata": {},
     "output_type": "execute_result"
    }
   ],
   "source": [
    "a = '''this is \n",
    "a     new \n",
    "        kos sher , \n",
    "        Just LOk at athe print '''\n",
    "\n",
    "print(a)\n",
    "\n",
    "a #variable keeps track of new lines and tab and every single charactors "
   ]
  },
  {
   "cell_type": "markdown",
   "metadata": {},
   "source": [
    "Python vareiables cannot be started with digits , just charactors or undersator \n",
    "\n",
    "even dash will be treated as minus operation \n",
    "\n",
    "__ i scalled dunder \n",
    "\n",
    "__ var : is used for name mangling when we have the train of inheritance \n",
    "\n",
    "__ var __ : is used for system_defined names that have some especial meaning to the interpretr \n"
   ]
  },
  {
   "cell_type": "code",
   "execution_count": 26,
   "metadata": {},
   "outputs": [
    {
     "name": "stdout",
     "output_type": "stream",
     "text": [
      "a+b =  5\n",
      "a.__add__(b) =  5\n",
      "c<b is  True\n",
      "c.__lt__(d) is  True\n"
     ]
    }
   ],
   "source": [
    "a = 2\n",
    "b = 3 \n",
    "print('a+b = ' , a+b ) \n",
    "\n",
    "print ('a.__add__(b) = ' , a.__add__(b) )\n",
    " \n",
    "c = 10\n",
    "\n",
    "d = 20 \n",
    "\n",
    "print ('c<b is ' , c<d) \n",
    "\n",
    "print ('c.__lt__(d) is ' , c.__lt__(d))\n"
   ]
  },
  {
   "cell_type": "markdown",
   "metadata": {},
   "source": [
    "### COnvention naming \n",
    "- Package , preferably no underscore \n",
    "- modules , undesracore is allowed \n",
    "- Class ; CapWords , all capital words BankAccount\n",
    "- function : lower with underscore , words seperated by underscore nank_account\n",
    "- variables : all lower case bank\n",
    "- constant : all uuper case BANK_ID \n"
   ]
  },
  {
   "cell_type": "code",
   "execution_count": 27,
   "metadata": {},
   "outputs": [
    {
     "name": "stdout",
     "output_type": "stream",
     "text": [
      "6\n",
      "ss\n",
      "['sex', 'kos', 'sex', 'kos', 'sex', 'kos']\n",
      "It is true that it expects int but it just for docmentation \n"
     ]
    }
   ],
   "source": [
    "def func_1(a:int ,b : int ):\n",
    "   print (a * b) \n",
    "    \n",
    "func_1(2, 3)\n",
    "\n",
    "func_1( 's' , 2)\n",
    "\n",
    "func_1 (['sex' , 'kos'] , 3) \n",
    "\n",
    "print ('It is true that it expects int but it just for docmentation ')"
   ]
  },
  {
   "cell_type": "code",
   "execution_count": 28,
   "metadata": {},
   "outputs": [
    {
     "data": {
      "text/plain": [
       "4"
      ]
     },
     "execution_count": 28,
     "metadata": {},
     "output_type": "execute_result"
    }
   ],
   "source": [
    "# LAMBDA FUNCTION \n",
    "\n",
    "fn_1 = lambda x : x ** 2\n",
    "\n",
    "fn_1(2)"
   ]
  },
  {
   "cell_type": "code",
   "execution_count": 32,
   "metadata": {},
   "outputs": [
    {
     "name": "stdin",
     "output_type": "stream",
     "text": [
      "enter your fucking naem 1\n",
      "enter your fucking naem 1\n",
      "enter your fucking naem ki\n",
      "enter your fucking naem kos\n"
     ]
    },
    {
     "name": "stdout",
     "output_type": "stream",
     "text": [
      "kos\n"
     ]
    }
   ],
   "source": [
    "min_length = 2 \n",
    "\n",
    "name = input('enter your fucking naem')\n",
    "\n",
    "while not(len(name) > min_length and name.isprintable() and name.isalpha()):\n",
    "    name = input('enter your fucking naem')\n",
    "    \n",
    "print (name )"
   ]
  },
  {
   "cell_type": "code",
   "execution_count": 33,
   "metadata": {},
   "outputs": [
    {
     "name": "stdin",
     "output_type": "stream",
     "text": [
      "enter your fucking naem 1\n",
      "enter your fucking naem 1\n",
      "enter your fucking naem 1\n",
      "enter your fucking naem 1\n",
      "enter your fucking naem kos\n"
     ]
    },
    {
     "name": "stdout",
     "output_type": "stream",
     "text": [
      "kos\n"
     ]
    }
   ],
   "source": [
    "min_length = 2 \n",
    "\n",
    "\n",
    "\n",
    "while True:\n",
    "    name = input('enter your fucking naem')\n",
    "    if (len(name) > min_length and name.isprintable() and name.isalpha()):\n",
    "        break \n",
    "    \n",
    "    \n",
    "print (name )"
   ]
  },
  {
   "cell_type": "code",
   "execution_count": 35,
   "metadata": {},
   "outputs": [
    {
     "name": "stdout",
     "output_type": "stream",
     "text": [
      "1\n",
      "3\n",
      "5\n",
      "7\n",
      "9\n"
     ]
    }
   ],
   "source": [
    "a = 0 \n",
    "\n",
    "while a < 10 :\n",
    "    a+=1\n",
    "    if a % 2 == 0 :\n",
    "        continue \n",
    "    print(a)"
   ]
  },
  {
   "cell_type": "markdown",
   "metadata": {},
   "source": [
    "# try .. except...finally "
   ]
  },
  {
   "cell_type": "code",
   "execution_count": 46,
   "metadata": {},
   "outputs": [
    {
     "name": "stdin",
     "output_type": "stream",
     "text": [
      "ye add kiri bede  f\n"
     ]
    },
    {
     "name": "stdout",
     "output_type": "stream",
     "text": [
      "kos kesh migam ye add e kiri bede\n"
     ]
    },
    {
     "name": "stdin",
     "output_type": "stream",
     "text": [
      "ye add kiri bede  \n"
     ]
    },
    {
     "name": "stdout",
     "output_type": "stream",
     "text": [
      "kos kesh migam ye add e kiri bede\n"
     ]
    },
    {
     "name": "stdin",
     "output_type": "stream",
     "text": [
      "ye add kiri bede  0\n"
     ]
    },
    {
     "name": "stdout",
     "output_type": "stream",
     "text": [
      "a is not devisible by zero \n",
      "kir too koonet \n"
     ]
    },
    {
     "name": "stdin",
     "output_type": "stream",
     "text": [
      "ye add kiri bede  2\n"
     ]
    },
    {
     "name": "stdout",
     "output_type": "stream",
     "text": [
      "result is =  5.0\n",
      "kir too koonet \n"
     ]
    }
   ],
   "source": [
    "a = 10 \n",
    "\n",
    "\n",
    "    \n",
    "while True:\n",
    "    b = input ('ye add kiri bede ')\n",
    "    try :\n",
    "        b = int(b)\n",
    "    except ValueError:\n",
    "        print ('kos kesh migam ye add e kiri bede' )\n",
    "        continue\n",
    "        \n",
    "    try :\n",
    "        print('result is = ' , a/b)\n",
    "        break \n",
    "        \n",
    "    except ZeroDivisionError:\n",
    "        print ('a is not devisible by zero ')\n",
    "        continue\n",
    "\n",
    "    finally:\n",
    "         print ('kir too koonet ')\n",
    "            \n",
    "            \n",
    "# no matter of break and contune , finally is always runniung \n"
   ]
  },
  {
   "cell_type": "markdown",
   "metadata": {},
   "source": [
    "### in python an iterable is an object that can be can be able to return th evalues one at a time \n",
    "> Note that however tuples or strings are immutable but they are iterable , we can call each of them by index or we can iterate through but we cannot change them\n",
    "> set and deictionary does not have index , right ? but they have key values that we can iterate through of them \n"
   ]
  },
  {
   "cell_type": "code",
   "execution_count": 55,
   "metadata": {},
   "outputs": [
    {
     "name": "stdout",
     "output_type": "stream",
     "text": [
      "<class 'tuple'>\n",
      "<class 'tuple'>\n",
      "<class 'tuple'>\n",
      "<class 'tuple'>\n",
      "<class 'tuple'>\n"
     ]
    }
   ],
   "source": [
    "# enumerate is returning tuple \n",
    "\n",
    "\n",
    "s = 'hello'\n",
    "for i,c in enumerate(s):\n",
    "    x = (i , c)\n",
    "    print(type(x))"
   ]
  },
  {
   "cell_type": "code",
   "execution_count": 59,
   "metadata": {},
   "outputs": [
    {
     "data": {
      "text/plain": [
       "\"'hello'\""
      ]
     },
     "execution_count": 59,
     "metadata": {},
     "output_type": "execute_result"
    }
   ],
   "source": [
    "s.__repr__()"
   ]
  },
  {
   "cell_type": "markdown",
   "metadata": {},
   "source": [
    "# Class Definition \n",
    "\n",
    "> dunder mean double underscore \n",
    "\n",
    "__str__ , __repr__\n",
    "\n",
    "What is the differenc ebetween trhem ? \n",
    "\n",
    "> str is a built in function that in class definition we can overwrite irt . \n",
    "for instance if we say str(2)  == > '2'\n",
    "if we say str([1,2,3]) == > '[1,2,3]'\n",
    "> if we define a class and say sr(class) it goives us a string of teh class \n",
    "> but in calss after defining __str__(self) whenever we say str(class) it gives us the some info of the class we put and we expect to be retunrd \n",
    ">__rep__ is doing the sam ething , if we just call class it gives us the location and the pointer but if we define __repr__ of the calss and then put class it prints out the class with the things that we have set f=to be printed \n",
    "\n",
    "> repr is more for debuggiung and str is more for user information in case they need "
   ]
  },
  {
   "cell_type": "code",
   "execution_count": 68,
   "metadata": {},
   "outputs": [],
   "source": [
    "class traingular():\n",
    "    def __init__(self , weight , highet):\n",
    "        self.weight = weight\n",
    "        self.highet = highet\n",
    "        \n",
    "    "
   ]
  },
  {
   "cell_type": "code",
   "execution_count": 69,
   "metadata": {},
   "outputs": [],
   "source": [
    "t1 = traingular(10 , 20 )"
   ]
  },
  {
   "cell_type": "code",
   "execution_count": 70,
   "metadata": {},
   "outputs": [
    {
     "data": {
      "text/plain": [
       "__main__.traingular"
      ]
     },
     "execution_count": 70,
     "metadata": {},
     "output_type": "execute_result"
    }
   ],
   "source": [
    "traingular"
   ]
  },
  {
   "cell_type": "code",
   "execution_count": 71,
   "metadata": {},
   "outputs": [
    {
     "name": "stdout",
     "output_type": "stream",
     "text": [
      "<class '__main__.traingular'>\n"
     ]
    }
   ],
   "source": [
    "print(traingular)"
   ]
  },
  {
   "cell_type": "code",
   "execution_count": 72,
   "metadata": {},
   "outputs": [
    {
     "data": {
      "text/plain": [
       "\"<class '__main__.traingular'>\""
      ]
     },
     "execution_count": 72,
     "metadata": {},
     "output_type": "execute_result"
    }
   ],
   "source": [
    "str(traingular)"
   ]
  },
  {
   "cell_type": "code",
   "execution_count": 84,
   "metadata": {},
   "outputs": [],
   "source": [
    "class Traingular():\n",
    "    def __init__(self , weight , highet):\n",
    "        self.weight = weight\n",
    "        self.highet = highet\n",
    "        \n",
    "    def __str__(self):\n",
    "        return ('Trainagualr with wedth {} , height {}'.format(self.weight , self.highet))\n",
    "    # be careful it should be return not print because the return actually goes to wrapper class \n",
    "        \n",
    "    def __repr__(self):\n",
    "        return ('Traingular({},{})'.format(self.weight , self.highet))\n",
    "        \n",
    "        # THE SAME"
   ]
  },
  {
   "cell_type": "code",
   "execution_count": 85,
   "metadata": {},
   "outputs": [],
   "source": [
    "t2 = Traingular(10 ,20 )\n"
   ]
  },
  {
   "cell_type": "code",
   "execution_count": 86,
   "metadata": {},
   "outputs": [
    {
     "data": {
      "text/plain": [
       "Traingular(10,20)"
      ]
     },
     "execution_count": 86,
     "metadata": {},
     "output_type": "execute_result"
    }
   ],
   "source": [
    "t2 "
   ]
  },
  {
   "cell_type": "code",
   "execution_count": 87,
   "metadata": {},
   "outputs": [
    {
     "data": {
      "text/plain": [
       "'Trainagualr with wedth 10 , height 20'"
      ]
     },
     "execution_count": 87,
     "metadata": {},
     "output_type": "execute_result"
    }
   ],
   "source": [
    "str(t2)"
   ]
  },
  {
   "cell_type": "code",
   "execution_count": 88,
   "metadata": {},
   "outputs": [
    {
     "name": "stdout",
     "output_type": "stream",
     "text": [
      "True\n",
      "False\n"
     ]
    }
   ],
   "source": [
    "# is t3 equals to t2 == NO  , different object different memmory class and everything \n",
    "\n",
    "t3 = Traingular(10, 20 )\n",
    "\n",
    "print (t2 is not t3 )\n",
    "\n",
    "print (t2 == t3 )\n",
    "\n"
   ]
  },
  {
   "cell_type": "markdown",
   "metadata": {},
   "source": [
    "But how we can compare if two objects are equal or not , note that no two objevts are equal but we want to see that if two objects are equal in terms of their characteristics , properties ==> __eq__"
   ]
  },
  {
   "cell_type": "code",
   "execution_count": 97,
   "metadata": {},
   "outputs": [],
   "source": [
    "class Traingular():\n",
    "    def __init__(self , weight , highet):\n",
    "        self.weight = weight\n",
    "        self.highet = highet\n",
    "        \n",
    "    def __str__(self):\n",
    "        return ('Trainagualr with wedth {} , height {}'.format(self.weight , self.highet))\n",
    "    # be careful it should be return not print because the return actually goes to wrapper class \n",
    "        \n",
    "    def __repr__(self):\n",
    "        return ('Traingular({},{})'.format(self.weight , self.highet))\n",
    "        \n",
    "    def __eq__(self, other) :\n",
    "        if isinstance(other, Traingular): # we do that to make sure that the other object is instance of Triangular \n",
    "            return (self.weight , self.highet) == (other.weight , other.highet)\n",
    "        else :\n",
    "            raise NotImplementedError"
   ]
  },
  {
   "cell_type": "code",
   "execution_count": 98,
   "metadata": {},
   "outputs": [],
   "source": [
    "t2 = Traingular(10 ,20 )\n",
    "t3 = Traingular(10 ,20 )"
   ]
  },
  {
   "cell_type": "code",
   "execution_count": 99,
   "metadata": {},
   "outputs": [
    {
     "data": {
      "text/plain": [
       "True"
      ]
     },
     "execution_count": 99,
     "metadata": {},
     "output_type": "execute_result"
    }
   ],
   "source": [
    "t2 == t3"
   ]
  },
  {
   "cell_type": "code",
   "execution_count": 100,
   "metadata": {},
   "outputs": [
    {
     "ename": "NotImplementedError",
     "evalue": "",
     "output_type": "error",
     "traceback": [
      "\u001b[0;31m---------------------------------------------------------------------------\u001b[0m",
      "\u001b[0;31mNotImplementedError\u001b[0m                       Traceback (most recent call last)",
      "\u001b[0;32m<ipython-input-100-545054af24fb>\u001b[0m in \u001b[0;36m<module>\u001b[0;34m\u001b[0m\n\u001b[1;32m      1\u001b[0m \u001b[0mt3\u001b[0m \u001b[0;34m=\u001b[0m \u001b[0;36m10\u001b[0m\u001b[0;34m\u001b[0m\u001b[0;34m\u001b[0m\u001b[0m\n\u001b[0;32m----> 2\u001b[0;31m \u001b[0mt2\u001b[0m \u001b[0;34m==\u001b[0m \u001b[0mt3\u001b[0m\u001b[0;34m\u001b[0m\u001b[0;34m\u001b[0m\u001b[0m\n\u001b[0m",
      "\u001b[0;32m<ipython-input-97-fcc73a806c35>\u001b[0m in \u001b[0;36m__eq__\u001b[0;34m(self, other)\u001b[0m\n\u001b[1;32m     15\u001b[0m             \u001b[0;32mreturn\u001b[0m \u001b[0;34m(\u001b[0m\u001b[0mself\u001b[0m\u001b[0;34m.\u001b[0m\u001b[0mweight\u001b[0m \u001b[0;34m,\u001b[0m \u001b[0mself\u001b[0m\u001b[0;34m.\u001b[0m\u001b[0mhighet\u001b[0m\u001b[0;34m)\u001b[0m \u001b[0;34m==\u001b[0m \u001b[0;34m(\u001b[0m\u001b[0mother\u001b[0m\u001b[0;34m.\u001b[0m\u001b[0mweight\u001b[0m \u001b[0;34m,\u001b[0m \u001b[0mother\u001b[0m\u001b[0;34m.\u001b[0m\u001b[0mhighet\u001b[0m\u001b[0;34m)\u001b[0m\u001b[0;34m\u001b[0m\u001b[0;34m\u001b[0m\u001b[0m\n\u001b[1;32m     16\u001b[0m         \u001b[0;32melse\u001b[0m \u001b[0;34m:\u001b[0m\u001b[0;34m\u001b[0m\u001b[0;34m\u001b[0m\u001b[0m\n\u001b[0;32m---> 17\u001b[0;31m             \u001b[0;32mraise\u001b[0m \u001b[0mNotImplementedError\u001b[0m\u001b[0;34m\u001b[0m\u001b[0;34m\u001b[0m\u001b[0m\n\u001b[0m",
      "\u001b[0;31mNotImplementedError\u001b[0m: "
     ]
    }
   ],
   "source": [
    "t3 = 10 \n",
    "t2 == t3"
   ]
  },
  {
   "cell_type": "markdown",
   "metadata": {},
   "source": [
    "## we have other dunder methods as well \n",
    "\n",
    "__lt__ : less than , may be area of triangular or depending on the class concept , in case we have __lt__ but not gt , still it works as it search through if one of them exists \n",
    "\n",
    "we can checl the rest online \n",
    "\n",
    "# Why we need to have seeter and getter in programming \n",
    "\n",
    "> Imagine someone wants to define a height for a Triangular class , of course , in python we dont have the concept of private property and every thing is public , and if he knows about the propertyy he can change it and even he can put a negative value for it and have the function works very well\n",
    "\n",
    "> Tp avoid that , we define get and set method and put condition on it , this way we hide the property from the user and actually we let the user to set the and get the property through a function which put some check on it \n"
   ]
  },
  {
   "cell_type": "code",
   "execution_count": 106,
   "metadata": {},
   "outputs": [],
   "source": [
    "class Traingular():\n",
    "    def __init__(self , weight , highet):\n",
    "        self._weight = weight\n",
    "        self._highet = highet\n",
    "        \n",
    "    @property\n",
    "    def weight(self):\n",
    "        return self._weight\n",
    "    \n",
    "    @property\n",
    "    def highet(self):\n",
    "        return self._highet\n",
    "    \n",
    "    @weight.setter                          ######### becareful it shopuld be the name of property (height , weight ) setter not @property.setter \n",
    "    def weight(self , weight):\n",
    "        if weight < 0 :\n",
    "            raise ValueError('The value should be positive')\n",
    "        else : \n",
    "            self._weight = weight\n",
    "        \n",
    "    @highet.setter\n",
    "    def highet(self , height):\n",
    "        if height < 0 :\n",
    "            raise ValueError('The value should be positive')\n",
    "        else :\n",
    "            self._highet = height   \n",
    "        \n",
    "    def __str__(self):\n",
    "        return ('Trainagualr with wedth {} , height {}'.format(self._weight , self._highet))\n",
    "    # be careful it should be return not print because the return actually goes to wrapper class \n",
    "        \n",
    "    def __repr__(self):\n",
    "        return ('Traingular({},{})'.format(self._weight , self._highet))\n",
    "        \n",
    "    def __eq__(self, other) :\n",
    "        if isinstance(other, Traingular): # we do that to make sure that the other object is instance of Triangular \n",
    "            return (self._weight , self._highet) == (other._weight , other._highet)\n",
    "        else :\n",
    "            raise NotImplementedError"
   ]
  },
  {
   "cell_type": "code",
   "execution_count": 111,
   "metadata": {},
   "outputs": [],
   "source": [
    "t2 = Traingular(10 ,-10)  # but initially it can be initiated because it is not goung to seeter "
   ]
  },
  {
   "cell_type": "code",
   "execution_count": 108,
   "metadata": {},
   "outputs": [
    {
     "data": {
      "text/plain": [
       "10"
      ]
     },
     "execution_count": 108,
     "metadata": {},
     "output_type": "execute_result"
    }
   ],
   "source": [
    "t2.weight"
   ]
  },
  {
   "cell_type": "code",
   "execution_count": 109,
   "metadata": {},
   "outputs": [
    {
     "data": {
      "text/plain": [
       "-10"
      ]
     },
     "execution_count": 109,
     "metadata": {},
     "output_type": "execute_result"
    }
   ],
   "source": [
    "t2.highet"
   ]
  },
  {
   "cell_type": "code",
   "execution_count": 110,
   "metadata": {},
   "outputs": [
    {
     "ename": "TypeError",
     "evalue": "'int' object is not callable",
     "output_type": "error",
     "traceback": [
      "\u001b[0;31m---------------------------------------------------------------------------\u001b[0m",
      "\u001b[0;31mTypeError\u001b[0m                                 Traceback (most recent call last)",
      "\u001b[0;32m<ipython-input-110-4a794b1d5ef8>\u001b[0m in \u001b[0;36m<module>\u001b[0;34m\u001b[0m\n\u001b[0;32m----> 1\u001b[0;31m \u001b[0mt2\u001b[0m\u001b[0;34m.\u001b[0m\u001b[0mhighet\u001b[0m\u001b[0;34m(\u001b[0m\u001b[0;34m-\u001b[0m\u001b[0;36m10\u001b[0m\u001b[0;34m)\u001b[0m\u001b[0;34m\u001b[0m\u001b[0;34m\u001b[0m\u001b[0m\n\u001b[0m",
      "\u001b[0;31mTypeError\u001b[0m: 'int' object is not callable"
     ]
    }
   ],
   "source": [
    "t2.highet(-100)"
   ]
  },
  {
   "cell_type": "markdown",
   "metadata": {},
   "source": [
    "**As we can see earlier we can define and instantiate our class even with not valid values , how to fix that , we can put soem condition on __init__ function but , instead we camn call our setter function as well . how ?  Check the self.__height and weight of previous class with self.height , weigt of class below** "
   ]
  },
  {
   "cell_type": "code",
   "execution_count": 112,
   "metadata": {},
   "outputs": [],
   "source": [
    "class Traingular():\n",
    "    def __init__(self , weight , highet):\n",
    "        self.weight = weight    ### instead of self._height her ewe use the setter method so we dont directly assign it \n",
    "        self.highet = highet\n",
    "        \n",
    "    @property\n",
    "    def weight(self):\n",
    "        return self._weight\n",
    "    \n",
    "    @property\n",
    "    def highet(self):\n",
    "        return self._highet\n",
    "    \n",
    "    @weight.setter                          ######### becareful it shopuld be the name of property (height , weight ) setter not @property.setter \n",
    "    def weight(self , weight):\n",
    "        if weight < 0 :\n",
    "            raise ValueError('The value should be positive')\n",
    "        else : \n",
    "            self._weight = weight\n",
    "        \n",
    "    @highet.setter\n",
    "    def highet(self , height):\n",
    "        if height < 0 :\n",
    "            raise ValueError('The value should be positive')\n",
    "        else :\n",
    "            self._highet = height   \n",
    "        \n",
    "    def __str__(self):\n",
    "        return ('Trainagualr with wedth {} , height {}'.format(self._weight , self._highet))\n",
    "    # be careful it should be return not print because the return actually goes to wrapper class \n",
    "        \n",
    "    def __repr__(self):\n",
    "        return ('Traingular({},{})'.format(self._weight , self._highet))\n",
    "        \n",
    "    def __eq__(self, other) :\n",
    "        if isinstance(other, Traingular): # we do that to make sure that the other object is instance of Triangular \n",
    "            return (self._weight , self._highet) == (other._weight , other._highet)\n",
    "        else :\n",
    "            raise NotImplementedError"
   ]
  },
  {
   "cell_type": "code",
   "execution_count": 113,
   "metadata": {},
   "outputs": [
    {
     "ename": "ValueError",
     "evalue": "The value should be positive",
     "output_type": "error",
     "traceback": [
      "\u001b[0;31m---------------------------------------------------------------------------\u001b[0m",
      "\u001b[0;31mValueError\u001b[0m                                Traceback (most recent call last)",
      "\u001b[0;32m<ipython-input-113-7bf0b3e85e23>\u001b[0m in \u001b[0;36m<module>\u001b[0;34m\u001b[0m\n\u001b[0;32m----> 1\u001b[0;31m \u001b[0mTraingular\u001b[0m\u001b[0;34m(\u001b[0m\u001b[0;34m-\u001b[0m\u001b[0;36m10\u001b[0m \u001b[0;34m,\u001b[0m \u001b[0;36m20\u001b[0m\u001b[0;34m)\u001b[0m\u001b[0;34m\u001b[0m\u001b[0;34m\u001b[0m\u001b[0m\n\u001b[0m",
      "\u001b[0;32m<ipython-input-112-88499c47d238>\u001b[0m in \u001b[0;36m__init__\u001b[0;34m(self, weight, highet)\u001b[0m\n\u001b[1;32m      1\u001b[0m \u001b[0;32mclass\u001b[0m \u001b[0mTraingular\u001b[0m\u001b[0;34m(\u001b[0m\u001b[0;34m)\u001b[0m\u001b[0;34m:\u001b[0m\u001b[0;34m\u001b[0m\u001b[0;34m\u001b[0m\u001b[0m\n\u001b[1;32m      2\u001b[0m     \u001b[0;32mdef\u001b[0m \u001b[0m__init__\u001b[0m\u001b[0;34m(\u001b[0m\u001b[0mself\u001b[0m \u001b[0;34m,\u001b[0m \u001b[0mweight\u001b[0m \u001b[0;34m,\u001b[0m \u001b[0mhighet\u001b[0m\u001b[0;34m)\u001b[0m\u001b[0;34m:\u001b[0m\u001b[0;34m\u001b[0m\u001b[0;34m\u001b[0m\u001b[0m\n\u001b[0;32m----> 3\u001b[0;31m         \u001b[0mself\u001b[0m\u001b[0;34m.\u001b[0m\u001b[0mweight\u001b[0m \u001b[0;34m=\u001b[0m \u001b[0mweight\u001b[0m    \u001b[0;31m### instead of self._height her ewe use the setter method so we dont directly assign it\u001b[0m\u001b[0;34m\u001b[0m\u001b[0;34m\u001b[0m\u001b[0m\n\u001b[0m\u001b[1;32m      4\u001b[0m         \u001b[0mself\u001b[0m\u001b[0;34m.\u001b[0m\u001b[0mhighet\u001b[0m \u001b[0;34m=\u001b[0m \u001b[0mhighet\u001b[0m\u001b[0;34m\u001b[0m\u001b[0;34m\u001b[0m\u001b[0m\n\u001b[1;32m      5\u001b[0m \u001b[0;34m\u001b[0m\u001b[0m\n",
      "\u001b[0;32m<ipython-input-112-88499c47d238>\u001b[0m in \u001b[0;36mweight\u001b[0;34m(self, weight)\u001b[0m\n\u001b[1;32m     15\u001b[0m     \u001b[0;32mdef\u001b[0m \u001b[0mweight\u001b[0m\u001b[0;34m(\u001b[0m\u001b[0mself\u001b[0m \u001b[0;34m,\u001b[0m \u001b[0mweight\u001b[0m\u001b[0;34m)\u001b[0m\u001b[0;34m:\u001b[0m\u001b[0;34m\u001b[0m\u001b[0;34m\u001b[0m\u001b[0m\n\u001b[1;32m     16\u001b[0m         \u001b[0;32mif\u001b[0m \u001b[0mweight\u001b[0m \u001b[0;34m<\u001b[0m \u001b[0;36m0\u001b[0m \u001b[0;34m:\u001b[0m\u001b[0;34m\u001b[0m\u001b[0;34m\u001b[0m\u001b[0m\n\u001b[0;32m---> 17\u001b[0;31m             \u001b[0;32mraise\u001b[0m \u001b[0mValueError\u001b[0m\u001b[0;34m(\u001b[0m\u001b[0;34m'The value should be positive'\u001b[0m\u001b[0;34m)\u001b[0m\u001b[0;34m\u001b[0m\u001b[0;34m\u001b[0m\u001b[0m\n\u001b[0m\u001b[1;32m     18\u001b[0m         \u001b[0;32melse\u001b[0m \u001b[0;34m:\u001b[0m\u001b[0;34m\u001b[0m\u001b[0;34m\u001b[0m\u001b[0m\n\u001b[1;32m     19\u001b[0m             \u001b[0mself\u001b[0m\u001b[0;34m.\u001b[0m\u001b[0m_weight\u001b[0m \u001b[0;34m=\u001b[0m \u001b[0mweight\u001b[0m\u001b[0;34m\u001b[0m\u001b[0;34m\u001b[0m\u001b[0m\n",
      "\u001b[0;31mValueError\u001b[0m: The value should be positive"
     ]
    }
   ],
   "source": [
    "Traingular(-10 , 20)"
   ]
  },
  {
   "cell_type": "markdown",
   "metadata": {},
   "source": [
    "# VARIABLES \n",
    "\n",
    "## Memory Refrences \n",
    "## What variable really are \n",
    "## memory managemnet \n",
    "## reference counting & garbage collection \n",
    "## dynamic vs static \n",
    "## mutability and immutability \n",
    "## shared refrences \n",
    "## variable equality \n",
    "## everything is an object "
   ]
  },
  {
   "cell_type": "markdown",
   "metadata": {},
   "source": [
    "Variable are memory refrerences mean ing that they are references to object in the memory , id () is to get the memory address\n",
    "\n",
    "Refrences counting , as it shows below , when we creating an object equal to another obect if they are mutable , so actualluy python does not occupy another memory and it is just refered to the same memory and each memory ahas a count and just a count would increase as many as object is referring to \n",
    "\n"
   ]
  },
  {
   "cell_type": "code",
   "execution_count": 114,
   "metadata": {},
   "outputs": [
    {
     "data": {
      "text/plain": [
       "True"
      ]
     },
     "execution_count": 114,
     "metadata": {},
     "output_type": "execute_result"
    }
   ],
   "source": [
    "a = 10 \n",
    "b = a \n",
    "\n",
    "id(a) == id(b)"
   ]
  },
  {
   "cell_type": "code",
   "execution_count": 115,
   "metadata": {},
   "outputs": [
    {
     "data": {
      "text/plain": [
       "534"
      ]
     },
     "execution_count": 115,
     "metadata": {},
     "output_type": "execute_result"
    }
   ],
   "source": [
    "import sys \n",
    "\n",
    "sys.getrefcount(a)"
   ]
  },
  {
   "cell_type": "markdown",
   "metadata": {},
   "source": [
    "# Mutability : an object whose internal state can change is mutable and actually can be mutated . vs Immutable \n",
    "\n",
    "# Immutable : ---------------------------------------- Mutable \n",
    " ## numbers                                            lists\n",
    " ## strings                                            sets \n",
    " ## tuples                                             disctionary \n",
    " ## Frozen sets\n",
    " ## user defined class                                 user defined classes \n",
    "\n",
    "\n",
    "> tuples are immutables , meaning that (1,2) we cannot chnage the state of it. but here state means the reference point to 1 & 2 \n",
    "> tuples of list , it is imutable still however the list can change a = [1,2] , b = [3,4] , c = (a, b) and the tup;e contains the pointer (refernces ) to a and b . but we still can a.ppend('hello') however the pointer does not change \n",
    "\n"
   ]
  },
  {
   "cell_type": "markdown",
   "metadata": {},
   "source": [
    "Also , in mutable and immutable we re talimg about the internal state of the objects not reassigning. So if a mutable case has achanged in its internal object , a = [1,2,3] and b = a and the n we have a[1]=='hi' ==> then b would be [1,'hi',3] but id we assign 'hello to a' ; a = 'hello ' then woule be still the same list [1,'hi',3] , so whenever we have reassigning even with the same value , it is goung to be another different object and it is not the same onjcet . hoiwever the name is still the same. The duty of refrence count is to count how many object is assign to a memory address and whenever one of them changed then refernce count would decrease because it takes another object , another value and another memory address and then the ref counnt if previous address would decrease . \n",
    "\n",
    "\n",
    "Also , if two immutable objcect gets the same avlue , actuall they ref is the same and they are sharing the refrence \n",
    "\n",
    "a = 'hello'\n",
    "b = 'hello'\n",
    "id(a) == id(b)  TRUE \n",
    "but if mutable objects get the same values they are not sharing the same refrnce . \n",
    "\n",
    "a = [1,2,3]\n",
    "b = [1,2,3]\n",
    "\n",
    "id(a) == id(b) ==> False \n",
    "\n",
    "\n",
    "a = [1,2,3] or 'hello'\n",
    "\n",
    "b = a \n",
    "\n",
    "a and b are sharing the same ref number amd id(a) == id(b) TRUe "
   ]
  },
  {
   "cell_type": "code",
   "execution_count": 18,
   "metadata": {},
   "outputs": [
    {
     "name": "stdout",
     "output_type": "stream",
     "text": [
      "False\n",
      "True\n",
      "True\n",
      "True\n",
      "False\n",
      "False\n"
     ]
    },
    {
     "data": {
      "text/plain": [
       "4395874408"
      ]
     },
     "execution_count": 18,
     "metadata": {},
     "output_type": "execute_result"
    }
   ],
   "source": [
    "a = [1,2,3]\n",
    "b = [1,2,3]\n",
    "print(id(a) == id(b) )\n",
    "print (a==b ) # chacking the state value )\n",
    "a = 'hello'\n",
    "b = 'hello'\n",
    "print(id(a) == id(b) )\n",
    "a = [1,2,3]\n",
    "b = a \n",
    "print(id(a) == id(b) )\n",
    "a = 10 \n",
    "a = 10.0\n",
    "\n",
    "print(id(a) == id(b) )\n",
    "print (a==b )"
   ]
  },
  {
   "cell_type": "markdown",
   "metadata": {},
   "source": [
    "# Imporetnat note \n",
    "\n",
    "in inheritance from a classs , we need to initiate the parent class in the child again if we have a constructor for the child . \n",
    "\n"
   ]
  },
  {
   "cell_type": "code",
   "execution_count": 4,
   "metadata": {},
   "outputs": [
    {
     "name": "stdout",
     "output_type": "stream",
     "text": [
      "Having access to the parents class properties without initializing them again \n"
     ]
    },
    {
     "data": {
      "text/plain": [
       "'A'"
      ]
     },
     "execution_count": 4,
     "metadata": {},
     "output_type": "execute_result"
    }
   ],
   "source": [
    "class A :\n",
    "    def __init__(self):\n",
    "        self._aName = 'A'\n",
    "        \n",
    "class B(A):\n",
    "    def dont_need_constructor(self):\n",
    "        print('Having access to the parents class properties without initializing them again ')\n",
    "        \n",
    "b = B()\n",
    "\n",
    "b.dont_need_constructor()\n",
    "\n",
    "b._aName"
   ]
  },
  {
   "cell_type": "code",
   "execution_count": 7,
   "metadata": {},
   "outputs": [
    {
     "name": "stdout",
     "output_type": "stream",
     "text": [
      "NO _aName property because the chile class has it is own constructor and we should initialize the parent as well\n"
     ]
    }
   ],
   "source": [
    "class A :\n",
    "    def __init__(self):\n",
    "        self._aName = 'A'\n",
    "        \n",
    "class B:\n",
    "    def __init__(self):\n",
    "        pass\n",
    "    \n",
    "    \n",
    "b = B()\n",
    "try :\n",
    "    b._aName\n",
    "except:\n",
    "    print ('NO _aName property because the chile class has it is own constructor and we should initialize the parent as well')"
   ]
  },
  {
   "cell_type": "markdown",
   "metadata": {},
   "source": [
    "# Garbage Collector \n",
    "\n",
    "Garbage collector in pythn would take care of circukar refrences . (-> means pointing or refering to an object )\n",
    "\n",
    "So , var_a --> object a --> object b \n",
    "\n",
    "if we remove var a , then ref count of obj a would be zero and consequently ref count of obj b would be zero . \n",
    "\n",
    "now , what happens is obj also has a pointer (like a method ) to obj a . then if we remove var a then their ref count will not be zero and they will stay ther e untill the memory overflow happens . so garbage collector is responsible to clean and remove those circular ref and it is always on by defauklt unless it is set to off . the point of having it off is to have a bit higher performance of engine but it s very dangrous because it is very easy to create circullar refrences and then memory leak. "
   ]
  },
  {
   "cell_type": "markdown",
   "metadata": {},
   "source": [
    "#Static VS Dynamic \n",
    "\n",
    "Java and c and some other languages are statis , meaning that when we create a variable , we have to say int my_var = 10 , then we occupy two memory one for name variable which is string and one for value which is int. \n",
    "\n",
    "but in python , my var = 10 , my_var is nothing but a pointer and no memory is assigned for the variable name itself (my var )"
   ]
  },
  {
   "cell_type": "markdown",
   "metadata": {},
   "source": [
    "# Equality \n",
    "\n",
    "is / is not also not (a ia b )==> comparing memory refrence  \n",
    "\n",
    "==  / !=  or not(a==b)==> state value of two objce s"
   ]
  },
  {
   "cell_type": "code",
   "execution_count": 23,
   "metadata": {},
   "outputs": [
    {
     "data": {
      "text/plain": [
       "False"
      ]
     },
     "execution_count": 23,
     "metadata": {},
     "output_type": "execute_result"
    }
   ],
   "source": [
    "a = 500\n",
    "b = 500\n",
    "a is b "
   ]
  },
  {
   "cell_type": "code",
   "execution_count": 24,
   "metadata": {},
   "outputs": [
    {
     "data": {
      "text/plain": [
       "True"
      ]
     },
     "execution_count": 24,
     "metadata": {},
     "output_type": "execute_result"
    }
   ],
   "source": [
    "a = 10 \n",
    "b = 10 \n",
    "a is b "
   ]
  },
  {
   "cell_type": "code",
   "execution_count": 28,
   "metadata": {},
   "outputs": [
    {
     "data": {
      "text/plain": [
       "False"
      ]
     },
     "execution_count": 28,
     "metadata": {},
     "output_type": "execute_result"
    }
   ],
   "source": [
    "a = 'jbkgih imhoomoomoi gi ihmo,mu. nymou '\n",
    "b = 'jbkgih imhoomoomoi gi ihmo,mu. nymou '\n",
    "a is b "
   ]
  },
  {
   "cell_type": "markdown",
   "metadata": {},
   "source": [
    "numbers and strings are mutable but just didgits [-5 , 255] are sharing the refrence for sake of interning and python optimization and any number out of that range will get a different refrences address \n",
    "\n",
    "teh same for strinhg ,'hello' and 'hello' are known sting for pythin and they are sharing the same address but the above kos sher variables they are string , immutable but tehy are not sharing addresses. "
   ]
  },
  {
   "cell_type": "code",
   "execution_count": 29,
   "metadata": {},
   "outputs": [
    {
     "data": {
      "text/plain": [
       "True"
      ]
     },
     "execution_count": 29,
     "metadata": {},
     "output_type": "execute_result"
    }
   ],
   "source": [
    "a = 'hello'\n",
    "b = 'hello'\n",
    "a is b "
   ]
  },
  {
   "cell_type": "markdown",
   "metadata": {},
   "source": [
    "// flor operation \n",
    "% module operation "
   ]
  },
  {
   "cell_type": "markdown",
   "metadata": {},
   "source": [
    "# difference between function params and argument :\n",
    "> params are in function defining def function (a , b ) ; a , b are params \n",
    "\n",
    "> arg are in function using  function (x , y ) : x, y are args , so here the memory address of x , y are passed to a , b "
   ]
  },
  {
   "cell_type": "markdown",
   "metadata": {},
   "source": [
    "# positional & keyword arguments \n",
    "## in params , function defining , defual values should come fater positionals \n",
    "## keyword arguments ; function using , should come after positional  "
   ]
  },
  {
   "cell_type": "code",
   "execution_count": 2,
   "metadata": {},
   "outputs": [],
   "source": [
    "def func (a, b , c ):\n",
    "    pass"
   ]
  },
  {
   "cell_type": "code",
   "execution_count": 4,
   "metadata": {},
   "outputs": [],
   "source": [
    "func(1,2,3)"
   ]
  },
  {
   "cell_type": "code",
   "execution_count": 5,
   "metadata": {},
   "outputs": [],
   "source": [
    "func (1,c = 1 , b = 10)"
   ]
  },
  {
   "cell_type": "code",
   "execution_count": 6,
   "metadata": {},
   "outputs": [],
   "source": [
    "func(1,2, c = 100)"
   ]
  },
  {
   "cell_type": "code",
   "execution_count": 8,
   "metadata": {},
   "outputs": [],
   "source": [
    "def func (a, b , c = 10 ):\n",
    "    pass"
   ]
  },
  {
   "cell_type": "code",
   "execution_count": 9,
   "metadata": {},
   "outputs": [],
   "source": [
    "func (1, 2)"
   ]
  },
  {
   "cell_type": "code",
   "execution_count": 10,
   "metadata": {},
   "outputs": [],
   "source": [
    "func (1, 2 , c = 20 )"
   ]
  },
  {
   "cell_type": "code",
   "execution_count": 11,
   "metadata": {},
   "outputs": [],
   "source": [
    "def func(a , b = 10 , c = 100):\n",
    "    pass "
   ]
  },
  {
   "cell_type": "code",
   "execution_count": 12,
   "metadata": {},
   "outputs": [],
   "source": [
    "func(1)"
   ]
  },
  {
   "cell_type": "code",
   "execution_count": 14,
   "metadata": {},
   "outputs": [],
   "source": [
    "func(1, 10) # , b = 10 "
   ]
  },
  {
   "cell_type": "code",
   "execution_count": 15,
   "metadata": {},
   "outputs": [],
   "source": [
    "func (1, c = 20 )"
   ]
  },
  {
   "cell_type": "code",
   "execution_count": 16,
   "metadata": {},
   "outputs": [],
   "source": [
    "func (1 , c = 100 , b = -20 )"
   ]
  },
  {
   "cell_type": "markdown",
   "metadata": {},
   "source": [
    "# unpacking iterables "
   ]
  },
  {
   "cell_type": "markdown",
   "metadata": {},
   "source": [
    "## what defines the tuple in python is comma , not () , () just makes the tuple more readable "
   ]
  },
  {
   "cell_type": "code",
   "execution_count": 17,
   "metadata": {},
   "outputs": [
    {
     "data": {
      "text/plain": [
       "1"
      ]
     },
     "execution_count": 17,
     "metadata": {},
     "output_type": "execute_result"
    }
   ],
   "source": [
    "(1) # it just returns the int of "
   ]
  },
  {
   "cell_type": "code",
   "execution_count": 20,
   "metadata": {},
   "outputs": [
    {
     "data": {
      "text/plain": [
       "(1,)"
      ]
     },
     "execution_count": 20,
     "metadata": {},
     "output_type": "execute_result"
    }
   ],
   "source": [
    "(1, ) # it is tuple "
   ]
  },
  {
   "cell_type": "code",
   "execution_count": 21,
   "metadata": {},
   "outputs": [
    {
     "data": {
      "text/plain": [
       "(1,)"
      ]
     },
     "execution_count": 21,
     "metadata": {},
     "output_type": "execute_result"
    }
   ],
   "source": [
    "1, # we actually doent need () "
   ]
  },
  {
   "cell_type": "markdown",
   "metadata": {},
   "source": [
    "> in order to make the empty tuple we just need an emty () . "
   ]
  },
  {
   "cell_type": "code",
   "execution_count": 22,
   "metadata": {},
   "outputs": [
    {
     "data": {
      "text/plain": [
       "()"
      ]
     },
     "execution_count": 22,
     "metadata": {},
     "output_type": "execute_result"
    }
   ],
   "source": [
    "()"
   ]
  },
  {
   "cell_type": "markdown",
   "metadata": {},
   "source": [
    "## packed values are the values that bundles together somehow , tuple , list , string , set , dictionary "
   ]
  },
  {
   "cell_type": "code",
   "execution_count": null,
   "metadata": {},
   "outputs": [],
   "source": [
    "a , b , c = [10 , 20 , 30 ]\n",
    "# actually left handside is a tuple containing a , b , c and right handside is an iterable \n",
    "a , b , c = 'XYZ'\n"
   ]
  },
  {
   "cell_type": "code",
   "execution_count": 24,
   "metadata": {},
   "outputs": [],
   "source": [
    "a , b = 10 , 20 \n",
    "# python first evaluate right hand side and assign memory address to a & b then \n",
    "b , a = a , b \n",
    "# then again evaluate the right handside and assign the memory address to b , a , boith sides are tuple but they are just keeping the \n",
    "#v memory address "
   ]
  },
  {
   "cell_type": "code",
   "execution_count": 25,
   "metadata": {},
   "outputs": [],
   "source": [
    "dic = {'k-1': 0 , 'K-2': 1 , 'k-3': 2}"
   ]
  },
  {
   "cell_type": "code",
   "execution_count": 30,
   "metadata": {},
   "outputs": [],
   "source": [
    "a , b , c = dic \n",
    "# we cannpt dictionary in this way however most of the time it works and it gets the keys in order butthere is no gurantee \n",
    "# WHY ? because dictionaries and sets are unorder iterabkles , \n",
    "# a might get 'k-1' or 'k-2' or 'k-3 '"
   ]
  },
  {
   "cell_type": "code",
   "execution_count": 31,
   "metadata": {},
   "outputs": [
    {
     "data": {
      "text/plain": [
       "'k-1'"
      ]
     },
     "execution_count": 31,
     "metadata": {},
     "output_type": "execute_result"
    }
   ],
   "source": [
    "a "
   ]
  },
  {
   "cell_type": "code",
   "execution_count": 34,
   "metadata": {},
   "outputs": [
    {
     "name": "stdout",
     "output_type": "stream",
     "text": [
      "k-1\n",
      "K-2\n",
      "k-3\n"
     ]
    }
   ],
   "source": [
    "for i in dic :\n",
    "    print (i)\n",
    "    \n",
    "# right now by chance it is in order but it si nopt always guranteed , the same for set "
   ]
  },
  {
   "cell_type": "code",
   "execution_count": 35,
   "metadata": {},
   "outputs": [],
   "source": [
    "s = {1 , 2, 3, 'a ' , ('l','j') , 70 }"
   ]
  },
  {
   "cell_type": "code",
   "execution_count": 36,
   "metadata": {},
   "outputs": [
    {
     "name": "stdout",
     "output_type": "stream",
     "text": [
      "1\n",
      "2\n",
      "3\n",
      "a \n",
      "70\n",
      "('l', 'j')\n"
     ]
    }
   ],
   "source": [
    "for i in s :\n",
    "    print (i)"
   ]
  },
  {
   "cell_type": "markdown",
   "metadata": {},
   "source": [
    "**you see they are not in the same order**"
   ]
  },
  {
   "cell_type": "code",
   "execution_count": 37,
   "metadata": {},
   "outputs": [],
   "source": [
    "l = [1,2,3,4,5]\n",
    "a , *b = l "
   ]
  },
  {
   "cell_type": "code",
   "execution_count": 38,
   "metadata": {},
   "outputs": [
    {
     "data": {
      "text/plain": [
       "[2, 3, 4, 5]"
      ]
     },
     "execution_count": 38,
     "metadata": {},
     "output_type": "execute_result"
    }
   ],
   "source": [
    "b"
   ]
  },
  {
   "cell_type": "code",
   "execution_count": 42,
   "metadata": {},
   "outputs": [
    {
     "name": "stdout",
     "output_type": "stream",
     "text": [
      "<class 'list'>\n",
      "<class 'list'>\n"
     ]
    }
   ],
   "source": [
    "tup = (1,2,3,4,5)\n",
    "a , *b = tup \n",
    "print (type(b))\n",
    "\n",
    "string = 'XYZ'\n",
    "a , *b = string \n",
    "print (type(b))"
   ]
  },
  {
   "cell_type": "markdown",
   "metadata": {},
   "source": [
    "> As you can see above for tuple it also will convert to list \n"
   ]
  },
  {
   "cell_type": "code",
   "execution_count": 43,
   "metadata": {},
   "outputs": [
    {
     "data": {
      "text/plain": [
       "[1, 2, 3, 4, 5, 6]"
      ]
     },
     "execution_count": 43,
     "metadata": {},
     "output_type": "execute_result"
    }
   ],
   "source": [
    "l1 = [1,2,3]\n",
    "l2 = [4,5,6]\n",
    "l = [*l1 , *l2]\n",
    "l"
   ]
  },
  {
   "cell_type": "markdown",
   "metadata": {},
   "source": [
    "> Note 1 : star assignment can be used in a list or tuple , so we cannot put *b = l , and we get an error \n",
    "note 2 : "
   ]
  },
  {
   "cell_type": "markdown",
   "metadata": {},
   "source": [
    "# how about onroder object like set or dictionary "
   ]
  },
  {
   "cell_type": "markdown",
   "metadata": {},
   "source": [
    "* still works and iterates just over the keys but it does not have any order "
   ]
  },
  {
   "cell_type": "markdown",
   "metadata": {},
   "source": [
    "# how to iterate over key values "
   ]
  },
  {
   "cell_type": "markdown",
   "metadata": {},
   "source": [
    "using ** we can iterate over the key-values \n",
    "\n",
    "**operation cannot be th eleft hand side of an assignemnt , so we cannnot unpack into , but we can assign an object which is unpack of some other objects**\n",
    "\n",
    "Also , it override , for instance if we have some dictionaries which have some shared keys , the latest one over rode the previous one in unpacking , in doctionary we can have just a unique key , which is handy when we have multiple setting and then we want to merge all of them and put it to the function \n",
    "\n"
   ]
  },
  {
   "cell_type": "code",
   "execution_count": 55,
   "metadata": {},
   "outputs": [
    {
     "data": {
      "text/plain": [
       "{'a': 1, 'b': 10, 'c': -1, 'e': -5, 'f': -100}"
      ]
     },
     "execution_count": 55,
     "metadata": {},
     "output_type": "execute_result"
    }
   ],
   "source": [
    "a = {'a' : 1 , 'b': 10 , 'c':20 }\n",
    "b = {'c' : -1 , 'e' : -5 , 'f' : -100}\n",
    "\n",
    "dic = {**a , **b } ; # merge with the unique keys \n",
    "dic"
   ]
  },
  {
   "cell_type": "markdown",
   "metadata": {},
   "source": [
    "we can ad key-value pairs from one or more dictionary to a dictionary literal \n",
    "\n",
    "what is dictionary literal , a normal dictionary with all elements unpacked\n"
   ]
  },
  {
   "cell_type": "code",
   "execution_count": 57,
   "metadata": {},
   "outputs": [
    {
     "data": {
      "text/plain": [
       "{'c': -1, 'e': -5, 'f': -100}"
      ]
     },
     "execution_count": 57,
     "metadata": {},
     "output_type": "execute_result"
    }
   ],
   "source": [
    "dic1 = {'c' : -1 , 'e' : -5 , 'f' : -100}\n",
    "\n",
    "dic2 = { 'c':100 , **dic1}\n",
    "\n",
    "dic2  # as you can see the c is overrided by the value of dictionary which does not make sense , we usually wants to get the modst updated value , so {**dic2 , 'c':100}"
   ]
  },
  {
   "cell_type": "code",
   "execution_count": 58,
   "metadata": {},
   "outputs": [],
   "source": [
    "# nested unpacking \n",
    "\n",
    "l = [1,2,[3,4]]\n",
    "\n",
    "a , b , (c ,d) = l"
   ]
  },
  {
   "cell_type": "code",
   "execution_count": 1,
   "metadata": {},
   "outputs": [],
   "source": [
    "l = [1,2,3,'XYZ']\n",
    "\n",
    "a , *b , (c,d,e) = l\n",
    "\n",
    "a , *b , (c , *d) = l # it seems we can have multiple star on left hand siode but one should we nested not at the same level "
   ]
  },
  {
   "cell_type": "code",
   "execution_count": 62,
   "metadata": {},
   "outputs": [],
   "source": [
    "l1 = [1,2,3]\n",
    "l2=[4,5,6]\n",
    "l = [*l1, *l2]"
   ]
  },
  {
   "cell_type": "code",
   "execution_count": 63,
   "metadata": {},
   "outputs": [],
   "source": [
    "s = 'XYZ'\n",
    "l = [*l1, *s] # ther eis no gurantee to get the s in the same order in index of list "
   ]
  },
  {
   "cell_type": "code",
   "execution_count": 70,
   "metadata": {},
   "outputs": [
    {
     "name": "stdout",
     "output_type": "stream",
     "text": [
      "['a', 'b', 'c', 'c', 'd', 'e', 'f']\n",
      "{'d', 'f', 'b', 'e', 'a', 'c'}\n"
     ]
    }
   ],
   "source": [
    "s1 = 'abc'\n",
    "s2 = 'cdef'\n",
    "s_list = [*s1 , *s2]\n",
    "print (s_list)\n",
    "s_set = {*s1 , *s2 }\n",
    "\n",
    "print (s_set) # set is having unique elemenst  \n"
   ]
  },
  {
   "cell_type": "code",
   "execution_count": 71,
   "metadata": {},
   "outputs": [],
   "source": [
    "a , b , *c = s_list "
   ]
  },
  {
   "cell_type": "code",
   "execution_count": 74,
   "metadata": {},
   "outputs": [
    {
     "ename": "ValueError",
     "evalue": "not enough values to unpack (expected at least 2, got 1)",
     "output_type": "error",
     "traceback": [
      "\u001b[0;31m---------------------------------------------------------------------------\u001b[0m",
      "\u001b[0;31mValueError\u001b[0m                                Traceback (most recent call last)",
      "\u001b[0;32m<ipython-input-74-c977efbd48d4>\u001b[0m in \u001b[0;36m<module>\u001b[0;34m\u001b[0m\n\u001b[0;32m----> 1\u001b[0;31m \u001b[0ma\u001b[0m \u001b[0;34m,\u001b[0m \u001b[0mb\u001b[0m \u001b[0;34m,\u001b[0m \u001b[0;34m*\u001b[0m\u001b[0mc\u001b[0m \u001b[0;34m,\u001b[0m  \u001b[0;34m=\u001b[0m \u001b[0ms_set\u001b[0m  \u001b[0;34m,\u001b[0m \u001b[0;31m# we ll get an error as it does not work on set as it si not order type  and it does not make sense because it does not show which one goes where\u001b[0m\u001b[0;34m\u001b[0m\u001b[0;34m\u001b[0m\u001b[0m\n\u001b[0m",
      "\u001b[0;31mValueError\u001b[0m: not enough values to unpack (expected at least 2, got 1)"
     ]
    }
   ],
   "source": [
    "a , b , *c  = s_set  , # we ll get an error as it does not work on set as it si not order type  and it does not make sense because it does not show which one goes where "
   ]
  },
  {
   "cell_type": "code",
   "execution_count": 73,
   "metadata": {},
   "outputs": [],
   "source": [
    " *c , = s_set , # it return a list "
   ]
  },
  {
   "cell_type": "code",
   "execution_count": 75,
   "metadata": {},
   "outputs": [
    {
     "data": {
      "text/plain": [
       "['d', 'f', 'b', 'e', 'a', 'c']"
      ]
     },
     "execution_count": 75,
     "metadata": {},
     "output_type": "execute_result"
    }
   ],
   "source": [
    "c  "
   ]
  },
  {
   "cell_type": "code",
   "execution_count": 77,
   "metadata": {},
   "outputs": [],
   "source": [
    "s1 = {1,2,3}\n",
    "s2 = {3,4,5,6}"
   ]
  },
  {
   "cell_type": "code",
   "execution_count": 78,
   "metadata": {},
   "outputs": [
    {
     "data": {
      "text/plain": [
       "{1, 2, 3, 4, 5, 6}"
      ]
     },
     "execution_count": 78,
     "metadata": {},
     "output_type": "execute_result"
    }
   ],
   "source": [
    "{*s1, *s2}"
   ]
  },
  {
   "cell_type": "code",
   "execution_count": 79,
   "metadata": {},
   "outputs": [
    {
     "data": {
      "text/plain": [
       "{1, 2, 3, 4, 5, 6}"
      ]
     },
     "execution_count": 79,
     "metadata": {},
     "output_type": "execute_result"
    }
   ],
   "source": [
    "s1.union(s2)"
   ]
  },
  {
   "cell_type": "code",
   "execution_count": 82,
   "metadata": {},
   "outputs": [
    {
     "data": {
      "text/plain": [
       "([1, 2, 3, 3, 4, 5, 6],)"
      ]
     },
     "execution_count": 82,
     "metadata": {},
     "output_type": "execute_result"
    }
   ],
   "source": [
    "[*s1 , *s2]  , # we can multiple 3 "
   ]
  },
  {
   "cell_type": "code",
   "execution_count": 83,
   "metadata": {},
   "outputs": [],
   "source": [
    "a , b , *c = [1,3, 'XYZ']"
   ]
  },
  {
   "cell_type": "code",
   "execution_count": 84,
   "metadata": {},
   "outputs": [
    {
     "data": {
      "text/plain": [
       "['XYZ']"
      ]
     },
     "execution_count": 84,
     "metadata": {},
     "output_type": "execute_result"
    }
   ],
   "source": [
    "c"
   ]
  },
  {
   "cell_type": "code",
   "execution_count": 85,
   "metadata": {},
   "outputs": [],
   "source": [
    "a, b , (*c , )  = [1,3, 'XYZ']"
   ]
  },
  {
   "cell_type": "code",
   "execution_count": 86,
   "metadata": {},
   "outputs": [
    {
     "data": {
      "text/plain": [
       "['X', 'Y', 'Z']"
      ]
     },
     "execution_count": 86,
     "metadata": {},
     "output_type": "execute_result"
    }
   ],
   "source": [
    "c"
   ]
  },
  {
   "cell_type": "code",
   "execution_count": 89,
   "metadata": {},
   "outputs": [],
   "source": [
    "a , b , (c , d , e ) = [1,2,'XYZ'] # nested unpack "
   ]
  },
  {
   "cell_type": "markdown",
   "metadata": {},
   "source": [
    "NOTE : \n",
    "1. As you can see we can unpack list , tuples , dictionary keys and strings , but when we are unpacking , it goes to a list . \n",
    "2. Also , in defining the function when we are using *c , it goes to tuple , so c would be a tuple not a list.\n"
   ]
  },
  {
   "cell_type": "markdown",
   "metadata": {},
   "source": [
    "# How *args and **kwargs work in th efinction : \n",
    "\n",
    "> The order is positional , args , kwars\n",
    "\n",
    "> meaning that whatever is introduced after *args , should not be positional variables and should be a key word argument \n",
    "\n",
    "> so , in defining the function we dont get an error like below "
   ]
  },
  {
   "cell_type": "code",
   "execution_count": 3,
   "metadata": {},
   "outputs": [],
   "source": [
    "def func1 (a , b , *c , d) :\n",
    "    print (a)\n",
    "    print (b)\n",
    "    print (c)\n",
    "    print (d)"
   ]
  },
  {
   "cell_type": "code",
   "execution_count": 4,
   "metadata": {},
   "outputs": [
    {
     "ename": "TypeError",
     "evalue": "func1() missing 1 required keyword-only argument: 'd'",
     "output_type": "error",
     "traceback": [
      "\u001b[0;31m---------------------------------------------------------------------------\u001b[0m",
      "\u001b[0;31mTypeError\u001b[0m                                 Traceback (most recent call last)",
      "\u001b[0;32m<ipython-input-4-2708bfcf3c29>\u001b[0m in \u001b[0;36m<module>\u001b[0;34m\u001b[0m\n\u001b[0;32m----> 1\u001b[0;31m \u001b[0mfunc1\u001b[0m\u001b[0;34m(\u001b[0m\u001b[0;36m10\u001b[0m \u001b[0;34m,\u001b[0m \u001b[0;36m20\u001b[0m \u001b[0;34m,\u001b[0m \u001b[0;34m[\u001b[0m\u001b[0;36m10\u001b[0m\u001b[0;34m,\u001b[0m \u001b[0;36m20\u001b[0m\u001b[0;34m]\u001b[0m \u001b[0;34m,\u001b[0m \u001b[0;36m40\u001b[0m \u001b[0;34m)\u001b[0m\u001b[0;34m\u001b[0m\u001b[0;34m\u001b[0m\u001b[0m\n\u001b[0m",
      "\u001b[0;31mTypeError\u001b[0m: func1() missing 1 required keyword-only argument: 'd'"
     ]
    }
   ],
   "source": [
    "func1(10 , 20 , [10, 20] , 40 )"
   ]
  },
  {
   "cell_type": "code",
   "execution_count": 7,
   "metadata": {},
   "outputs": [
    {
     "name": "stdout",
     "output_type": "stream",
     "text": [
      "109\n",
      "20\n",
      "(30, 40)\n",
      "50\n"
     ]
    }
   ],
   "source": [
    "func1(109 , 20 , 30 ,40 , d= 50 )"
   ]
  },
  {
   "cell_type": "code",
   "execution_count": 8,
   "metadata": {},
   "outputs": [],
   "source": [
    "l = [1,2,3 , 4 , 5 ]\n"
   ]
  },
  {
   "cell_type": "code",
   "execution_count": 9,
   "metadata": {},
   "outputs": [],
   "source": [
    "a , *b = l"
   ]
  },
  {
   "cell_type": "code",
   "execution_count": 10,
   "metadata": {},
   "outputs": [
    {
     "data": {
      "text/plain": [
       "[2, 3, 4, 5]"
      ]
     },
     "execution_count": 10,
     "metadata": {},
     "output_type": "execute_result"
    }
   ],
   "source": [
    "b "
   ]
  },
  {
   "cell_type": "markdown",
   "metadata": {},
   "source": [
    "# Note:\n",
    "\n",
    "As you see , when you unpack a list or a tuple with * , then the reslut would be a list always \n",
    "\n",
    "But in function , it is not the case , it return all the rest of positional params in tuple \n",
    "\n",
    "In func1 above we are saying that , a , b is mandatory , all the positional argument should be in c and anything after that should be keyword \n",
    "\n",
    "The question is how we can define a function to just accept key word argument , no any positional \n",
    "\n",
    "def func (* , d , c ):\n",
    "\n",
    "in this way , c , d should alwways be given in key word argument . \n",
    "\n",
    "why? \n",
    "\n",
    "Actually * means that it iterate through the rest positional argunment and anything else SHOULD be key word argument , so if we introduce a function (* , d , b  , c = 10 ): ...  then actually we are kind of forced the function to not take any positional argument. \n",
    "\n"
   ]
  },
  {
   "cell_type": "code",
   "execution_count": 12,
   "metadata": {},
   "outputs": [],
   "source": [
    "def func(* , d , c):\n",
    "    print (d)\n",
    "    print(c)"
   ]
  },
  {
   "cell_type": "code",
   "execution_count": 13,
   "metadata": {},
   "outputs": [
    {
     "ename": "TypeError",
     "evalue": "func() takes 0 positional arguments but 2 were given",
     "output_type": "error",
     "traceback": [
      "\u001b[0;31m---------------------------------------------------------------------------\u001b[0m",
      "\u001b[0;31mTypeError\u001b[0m                                 Traceback (most recent call last)",
      "\u001b[0;32m<ipython-input-13-ad6ce31dde73>\u001b[0m in \u001b[0;36m<module>\u001b[0;34m\u001b[0m\n\u001b[0;32m----> 1\u001b[0;31m \u001b[0mfunc\u001b[0m\u001b[0;34m(\u001b[0m\u001b[0;36m2\u001b[0m \u001b[0;34m,\u001b[0m \u001b[0;36m3\u001b[0m \u001b[0;34m)\u001b[0m\u001b[0;34m\u001b[0m\u001b[0;34m\u001b[0m\u001b[0m\n\u001b[0m",
      "\u001b[0;31mTypeError\u001b[0m: func() takes 0 positional arguments but 2 were given"
     ]
    }
   ],
   "source": [
    "func(2 , 3 )"
   ]
  },
  {
   "cell_type": "markdown",
   "metadata": {},
   "source": [
    "So *args is to scoop up variable amonut of remaining positional arguments ==> tuple \n",
    "\n",
    "And **kwargs is to scoop up variable amount if remianing key word argumenst ==> dictionary \n",
    "\n",
    "**kwargs is king of scooping up the optional key work arguments\n",
    "\n",
    "So the oorder is goung to be positional , default positional , *args , key word , default keywords and **kwargs \n",
    "\n"
   ]
  },
  {
   "cell_type": "code",
   "execution_count": 15,
   "metadata": {},
   "outputs": [],
   "source": [
    "def function (* , d= 10  , c , **kwargs):\n",
    "    print (d)\n",
    "    print (c)\n",
    "    print(kwargs)\n",
    "    \n",
    "    "
   ]
  },
  {
   "cell_type": "code",
   "execution_count": 16,
   "metadata": {},
   "outputs": [
    {
     "name": "stdout",
     "output_type": "stream",
     "text": [
      "10\n",
      "20\n",
      "{'e': 50, 'f': 70}\n"
     ]
    }
   ],
   "source": [
    "function(c = 20 , e = 50 , f = 70 )"
   ]
  },
  {
   "cell_type": "code",
   "execution_count": 17,
   "metadata": {},
   "outputs": [
    {
     "name": "stdout",
     "output_type": "stream",
     "text": [
      "-10\n",
      "20\n",
      "{'e': 50, 'f': 70}\n"
     ]
    }
   ],
   "source": [
    "function(d= -10 , c = 20 , e = 50 , f = 70 )"
   ]
  },
  {
   "cell_type": "markdown",
   "metadata": {},
   "source": [
    "If we want to mandate the function should just get keyword argument , then \n",
    "\n",
    "def fun(**kwargs):\n",
    "    pass\n",
    "    \n",
    "def (* , a , b , **kwargs):\n",
    "    pass \n",
    "    \n",
    "In the latter case , we mande=ate to have two key word arguments "
   ]
  },
  {
   "cell_type": "code",
   "execution_count": 18,
   "metadata": {},
   "outputs": [],
   "source": [
    "def function (*args , **kwargs):\n",
    "    pass"
   ]
  },
  {
   "cell_type": "markdown",
   "metadata": {},
   "source": [
    "In this function what we define is optional positional arguments and optional keyword arguments \n",
    "\n",
    "and th efunctuon wrap up all the positinal argumenst in the tuple args and key word args into a dictionary, \n",
    "\n",
    "so if we dont pass any argument we would end up having empty tuple fo rargs and empty dictionary for kwargs \n",
    "\n"
   ]
  },
  {
   "cell_type": "code",
   "execution_count": 19,
   "metadata": {},
   "outputs": [
    {
     "ename": "SyntaxError",
     "evalue": "non-default argument follows default argument (<ipython-input-19-ebf9bd6f72f8>, line 1)",
     "output_type": "error",
     "traceback": [
      "\u001b[0;36m  File \u001b[0;32m\"<ipython-input-19-ebf9bd6f72f8>\"\u001b[0;36m, line \u001b[0;32m1\u001b[0m\n\u001b[0;31m    def func(a , b = 10 , c ) :\u001b[0m\n\u001b[0m            ^\u001b[0m\n\u001b[0;31mSyntaxError\u001b[0m\u001b[0;31m:\u001b[0m non-default argument follows default argument\n"
     ]
    }
   ],
   "source": [
    "def func(a , b = 10 , c ) :\n",
    "    pass"
   ]
  },
  {
   "cell_type": "markdown",
   "metadata": {},
   "source": [
    "# ORDER : \n",
    "# mandatory positional argument , default arguments , **args , defulat key word arguments and **argumenst  "
   ]
  },
  {
   "cell_type": "markdown",
   "metadata": {},
   "source": [
    "!['order'](arg_kwargs_order.png)"
   ]
  },
  {
   "cell_type": "markdown",
   "metadata": {},
   "source": [
    "!['order'](arg_kwargs_order_2.png)"
   ]
  },
  {
   "cell_type": "markdown",
   "metadata": {},
   "source": [
    "\n",
    "!['order'](arg_kwargs_examples.png)"
   ]
  },
  {
   "cell_type": "markdown",
   "metadata": {},
   "source": [
    "Be very careful usung imutable objects as defaukt (like list )in defining functions as they are always refering to the sam ememory address \n",
    "\n",
    "In the function below , l argument will take a memory address of an empty list. then , l would be the same list_1 and rhe same address for list_2 because they are immutable. \n",
    "\n",
    "\n"
   ]
  },
  {
   "cell_type": "code",
   "execution_count": 61,
   "metadata": {},
   "outputs": [],
   "source": [
    "def function (*args , l = [] , **kwargs ) :\n",
    "    for i in args:\n",
    "        l.append(i)\n",
    "        \n",
    "    return l "
   ]
  },
  {
   "cell_type": "code",
   "execution_count": 62,
   "metadata": {},
   "outputs": [],
   "source": [
    "list_1 = function(1,2,3, ['kir'])"
   ]
  },
  {
   "cell_type": "code",
   "execution_count": 63,
   "metadata": {},
   "outputs": [],
   "source": [
    "list_2 = function('a' , 'b' , 'c')"
   ]
  },
  {
   "cell_type": "code",
   "execution_count": 64,
   "metadata": {},
   "outputs": [
    {
     "data": {
      "text/plain": [
       "[1, 2, 3, ['kir'], 'a', 'b', 'c']"
      ]
     },
     "execution_count": 64,
     "metadata": {},
     "output_type": "execute_result"
    }
   ],
   "source": [
    "list_1"
   ]
  },
  {
   "cell_type": "code",
   "execution_count": 65,
   "metadata": {},
   "outputs": [
    {
     "data": {
      "text/plain": [
       "[1, 2, 3, ['kir'], 'a', 'b', 'c']"
      ]
     },
     "execution_count": 65,
     "metadata": {},
     "output_type": "execute_result"
    }
   ],
   "source": [
    "list_2"
   ]
  },
  {
   "cell_type": "code",
   "execution_count": 66,
   "metadata": {},
   "outputs": [
    {
     "data": {
      "text/plain": [
       "True"
      ]
     },
     "execution_count": 66,
     "metadata": {},
     "output_type": "execute_result"
    }
   ],
   "source": [
    "list_1 is list_2 "
   ]
  },
  {
   "cell_type": "code",
   "execution_count": null,
   "metadata": {},
   "outputs": [],
   "source": []
  }
 ],
 "metadata": {
  "kernelspec": {
   "display_name": "Python 3",
   "language": "python",
   "name": "python3"
  },
  "language_info": {
   "codemirror_mode": {
    "name": "ipython",
    "version": 3
   },
   "file_extension": ".py",
   "mimetype": "text/x-python",
   "name": "python",
   "nbconvert_exporter": "python",
   "pygments_lexer": "ipython3",
   "version": "3.7.7"
  }
 },
 "nbformat": 4,
 "nbformat_minor": 4
}
